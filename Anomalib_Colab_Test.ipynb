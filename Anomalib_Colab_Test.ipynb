{
  "nbformat": 4,
  "nbformat_minor": 0,
  "metadata": {
    "colab": {
      "provenance": [],
      "collapsed_sections": [],
      "include_colab_link": true
    },
    "kernelspec": {
      "name": "python3",
      "display_name": "Python 3"
    },
    "language_info": {
      "name": "python"
    },
    "accelerator": "GPU"
  },
  "cells": [
    {
      "cell_type": "markdown",
      "metadata": {
        "id": "view-in-github",
        "colab_type": "text"
      },
      "source": [
        "<a href=\"https://colab.research.google.com/github/totkoktom/anomalib/blob/main/Anomalib_Colab_Test.ipynb\" target=\"_parent\"><img src=\"https://colab.research.google.com/assets/colab-badge.svg\" alt=\"Open In Colab\"/></a>"
      ]
    },
    {
      "cell_type": "markdown",
      "source": [
        "This notebook is an example of running the PADIM model on the MVTec bottle dataset. After training two examples of inference are run, one on a bad sample and one on a good sample. \n",
        "\n",
        "Link to info:\n",
        "\n",
        "https://github.com/openvinotoolkit/anomalib\n",
        "\n",
        "(Runtime has to be GPU)"
      ],
      "metadata": {
        "id": "jZDG7NKG69Em"
      }
    },
    {
      "cell_type": "code",
      "source": [
        "!git clone https://github.com/openvinotoolkit/anomalib.git"
      ],
      "metadata": {
        "id": "JrgrWWF47X3s",
        "colab": {
          "base_uri": "https://localhost:8080/"
        },
        "outputId": "1fb2df0c-8eae-430d-934c-e92c1eb71360"
      },
      "execution_count": null,
      "outputs": [
        {
          "output_type": "stream",
          "name": "stdout",
          "text": [
            "Cloning into 'anomalib'...\n",
            "remote: Enumerating objects: 21905, done.\u001b[K\n",
            "remote: Counting objects: 100% (3444/3444), done.\u001b[K\n",
            "remote: Compressing objects: 100% (1187/1187), done.\u001b[K\n",
            "remote: Total 21905 (delta 1980), reused 3133 (delta 1762), pack-reused 18461\u001b[K\n",
            "Receiving objects: 100% (21905/21905), 49.46 MiB | 16.61 MiB/s, done.\n",
            "Resolving deltas: 100% (12853/12853), done.\n"
          ]
        }
      ]
    },
    {
      "cell_type": "code",
      "source": [
        "!pip install anomalib"
      ],
      "metadata": {
        "id": "wsd-I8MS8acb",
        "colab": {
          "base_uri": "https://localhost:8080/",
          "height": 1000
        },
        "outputId": "34851ee1-ef9f-4edd-ac83-42fe6d79e646"
      },
      "execution_count": null,
      "outputs": [
        {
          "output_type": "stream",
          "name": "stdout",
          "text": [
            "Looking in indexes: https://pypi.org/simple, https://us-python.pkg.dev/colab-wheels/public/simple/\n",
            "Collecting anomalib\n",
            "  Downloading anomalib-0.3.6-py3-none-any.whl (248 kB)\n",
            "\u001b[K     |████████████████████████████████| 248 kB 33.0 MB/s \n",
            "\u001b[?25hCollecting torchvision<=0.12.0,>=0.9.1\n",
            "  Downloading torchvision-0.12.0-cp37-cp37m-manylinux1_x86_64.whl (21.0 MB)\n",
            "\u001b[K     |████████████████████████████████| 21.0 MB 96.3 MB/s \n",
            "\u001b[?25hCollecting omegaconf>=2.1.1\n",
            "  Downloading omegaconf-2.2.3-py3-none-any.whl (79 kB)\n",
            "\u001b[K     |████████████████████████████████| 79 kB 9.8 MB/s \n",
            "\u001b[?25hCollecting torchtext<=0.12.0,>=0.9.1\n",
            "  Downloading torchtext-0.12.0-cp37-cp37m-manylinux1_x86_64.whl (10.4 MB)\n",
            "\u001b[K     |████████████████████████████████| 10.4 MB 57.4 MB/s \n",
            "\u001b[?25hRequirement already satisfied: albumentations>=1.1.0 in /usr/local/lib/python3.7/dist-packages (from anomalib) (1.2.1)\n",
            "Collecting wandb==0.12.17\n",
            "  Downloading wandb-0.12.17-py2.py3-none-any.whl (1.8 MB)\n",
            "\u001b[K     |████████████████████████████████| 1.8 MB 54.4 MB/s \n",
            "\u001b[?25hCollecting gradio>=2.9.4\n",
            "  Downloading gradio-3.4.1-py3-none-any.whl (5.3 MB)\n",
            "\u001b[K     |████████████████████████████████| 5.3 MB 60.7 MB/s \n",
            "\u001b[?25hCollecting torchmetrics<=0.9.3,>=0.9.1\n",
            "  Downloading torchmetrics-0.9.3-py3-none-any.whl (419 kB)\n",
            "\u001b[K     |████████████████████████████████| 419 kB 62.7 MB/s \n",
            "\u001b[?25hRequirement already satisfied: imgaug==0.4.0 in /usr/local/lib/python3.7/dist-packages (from anomalib) (0.4.0)\n",
            "Collecting pytorch-lightning<1.7.0,>=1.6.0\n",
            "  Downloading pytorch_lightning-1.6.5-py3-none-any.whl (585 kB)\n",
            "\u001b[K     |████████████████████████████████| 585 kB 73.0 MB/s \n",
            "\u001b[?25hRequirement already satisfied: pandas>=1.1.0 in /usr/local/lib/python3.7/dist-packages (from anomalib) (1.3.5)\n",
            "Collecting timm==0.5.4\n",
            "  Downloading timm-0.5.4-py3-none-any.whl (431 kB)\n",
            "\u001b[K     |████████████████████████████████| 431 kB 72.9 MB/s \n",
            "\u001b[?25hCollecting kornia>=0.6.6\n",
            "  Downloading kornia-0.6.7-py2.py3-none-any.whl (565 kB)\n",
            "\u001b[K     |████████████████████████████████| 565 kB 68.9 MB/s \n",
            "\u001b[?25hCollecting matplotlib>=3.4.3\n",
            "  Downloading matplotlib-3.5.3-cp37-cp37m-manylinux_2_5_x86_64.manylinux1_x86_64.whl (11.2 MB)\n",
            "\u001b[K     |████████████████████████████████| 11.2 MB 61.3 MB/s \n",
            "\u001b[?25hRequirement already satisfied: opencv-python>=4.5.3.56 in /usr/local/lib/python3.7/dist-packages (from anomalib) (4.6.0.66)\n",
            "Collecting jsonargparse[signatures]>=4.3\n",
            "  Downloading jsonargparse-4.15.0-py3-none-any.whl (158 kB)\n",
            "\u001b[K     |████████████████████████████████| 158 kB 74.1 MB/s \n",
            "\u001b[?25hCollecting einops>=0.3.2\n",
            "  Downloading einops-0.5.0-py3-none-any.whl (36 kB)\n",
            "Requirement already satisfied: imageio in /usr/local/lib/python3.7/dist-packages (from imgaug==0.4.0->anomalib) (2.9.0)\n",
            "Requirement already satisfied: Pillow in /usr/local/lib/python3.7/dist-packages (from imgaug==0.4.0->anomalib) (7.1.2)\n",
            "Requirement already satisfied: numpy>=1.15 in /usr/local/lib/python3.7/dist-packages (from imgaug==0.4.0->anomalib) (1.21.6)\n",
            "Requirement already satisfied: six in /usr/local/lib/python3.7/dist-packages (from imgaug==0.4.0->anomalib) (1.15.0)\n",
            "Requirement already satisfied: scipy in /usr/local/lib/python3.7/dist-packages (from imgaug==0.4.0->anomalib) (1.7.3)\n",
            "Requirement already satisfied: scikit-image>=0.14.2 in /usr/local/lib/python3.7/dist-packages (from imgaug==0.4.0->anomalib) (0.18.3)\n",
            "Requirement already satisfied: Shapely in /usr/local/lib/python3.7/dist-packages (from imgaug==0.4.0->anomalib) (1.8.4)\n",
            "Requirement already satisfied: torch>=1.4 in /usr/local/lib/python3.7/dist-packages (from timm==0.5.4->anomalib) (1.12.1+cu113)\n",
            "Collecting pathtools\n",
            "  Downloading pathtools-0.1.2.tar.gz (11 kB)\n",
            "Requirement already satisfied: protobuf<4.0dev,>=3.12.0 in /usr/local/lib/python3.7/dist-packages (from wandb==0.12.17->anomalib) (3.17.3)\n",
            "Requirement already satisfied: psutil>=5.0.0 in /usr/local/lib/python3.7/dist-packages (from wandb==0.12.17->anomalib) (5.4.8)\n",
            "Requirement already satisfied: PyYAML in /usr/local/lib/python3.7/dist-packages (from wandb==0.12.17->anomalib) (6.0)\n",
            "Requirement already satisfied: setuptools in /usr/local/lib/python3.7/dist-packages (from wandb==0.12.17->anomalib) (57.4.0)\n",
            "Collecting shortuuid>=0.5.0\n",
            "  Downloading shortuuid-1.0.9-py3-none-any.whl (9.4 kB)\n",
            "Requirement already satisfied: promise<3,>=2.0 in /usr/local/lib/python3.7/dist-packages (from wandb==0.12.17->anomalib) (2.3)\n",
            "Requirement already satisfied: requests<3,>=2.0.0 in /usr/local/lib/python3.7/dist-packages (from wandb==0.12.17->anomalib) (2.23.0)\n",
            "Collecting setproctitle\n",
            "  Downloading setproctitle-1.3.2-cp37-cp37m-manylinux_2_5_x86_64.manylinux1_x86_64.manylinux_2_17_x86_64.manylinux2014_x86_64.whl (30 kB)\n",
            "Requirement already satisfied: Click!=8.0.0,>=7.0 in /usr/local/lib/python3.7/dist-packages (from wandb==0.12.17->anomalib) (7.1.2)\n",
            "Collecting sentry-sdk>=1.0.0\n",
            "  Downloading sentry_sdk-1.9.10-py2.py3-none-any.whl (162 kB)\n",
            "\u001b[K     |████████████████████████████████| 162 kB 69.5 MB/s \n",
            "\u001b[?25hRequirement already satisfied: python-dateutil>=2.6.1 in /usr/local/lib/python3.7/dist-packages (from wandb==0.12.17->anomalib) (2.8.2)\n",
            "Collecting GitPython>=1.0.0\n",
            "  Downloading GitPython-3.1.27-py3-none-any.whl (181 kB)\n",
            "\u001b[K     |████████████████████████████████| 181 kB 73.5 MB/s \n",
            "\u001b[?25hCollecting docker-pycreds>=0.4.0\n",
            "  Downloading docker_pycreds-0.4.0-py2.py3-none-any.whl (9.0 kB)\n",
            "Requirement already satisfied: qudida>=0.0.4 in /usr/local/lib/python3.7/dist-packages (from albumentations>=1.1.0->anomalib) (0.0.4)\n",
            "Requirement already satisfied: opencv-python-headless>=4.1.1 in /usr/local/lib/python3.7/dist-packages (from albumentations>=1.1.0->anomalib) (4.6.0.66)\n",
            "Collecting gitdb<5,>=4.0.1\n",
            "  Downloading gitdb-4.0.9-py3-none-any.whl (63 kB)\n",
            "\u001b[K     |████████████████████████████████| 63 kB 2.1 MB/s \n",
            "\u001b[?25hRequirement already satisfied: typing-extensions>=3.7.4.3 in /usr/local/lib/python3.7/dist-packages (from GitPython>=1.0.0->wandb==0.12.17->anomalib) (4.1.1)\n",
            "Collecting smmap<6,>=3.0.1\n",
            "  Downloading smmap-5.0.0-py3-none-any.whl (24 kB)\n",
            "Collecting markdown-it-py[linkify,plugins]\n",
            "  Downloading markdown_it_py-2.1.0-py3-none-any.whl (84 kB)\n",
            "\u001b[K     |████████████████████████████████| 84 kB 4.0 MB/s \n",
            "\u001b[?25hRequirement already satisfied: aiohttp in /usr/local/lib/python3.7/dist-packages (from gradio>=2.9.4->anomalib) (3.8.1)\n",
            "Requirement already satisfied: jinja2 in /usr/local/lib/python3.7/dist-packages (from gradio>=2.9.4->anomalib) (2.11.3)\n",
            "Requirement already satisfied: fsspec in /usr/local/lib/python3.7/dist-packages (from gradio>=2.9.4->anomalib) (2022.8.2)\n",
            "Collecting paramiko\n",
            "  Downloading paramiko-2.11.0-py2.py3-none-any.whl (212 kB)\n",
            "\u001b[K     |████████████████████████████████| 212 kB 78.4 MB/s \n",
            "\u001b[?25hCollecting websockets\n",
            "  Downloading websockets-10.3-cp37-cp37m-manylinux_2_5_x86_64.manylinux1_x86_64.manylinux_2_12_x86_64.manylinux2010_x86_64.whl (112 kB)\n",
            "\u001b[K     |████████████████████████████████| 112 kB 71.6 MB/s \n",
            "\u001b[?25hCollecting orjson\n",
            "  Downloading orjson-3.8.0-cp37-cp37m-manylinux_2_17_x86_64.manylinux2014_x86_64.whl (270 kB)\n",
            "\u001b[K     |████████████████████████████████| 270 kB 71.3 MB/s \n",
            "\u001b[?25hCollecting httpx\n",
            "  Downloading httpx-0.23.0-py3-none-any.whl (84 kB)\n",
            "\u001b[K     |████████████████████████████████| 84 kB 4.5 MB/s \n",
            "\u001b[?25hCollecting uvicorn\n",
            "  Downloading uvicorn-0.18.3-py3-none-any.whl (57 kB)\n",
            "\u001b[K     |████████████████████████████████| 57 kB 5.1 MB/s \n",
            "\u001b[?25hCollecting pydub\n",
            "  Downloading pydub-0.25.1-py2.py3-none-any.whl (32 kB)\n",
            "Collecting ffmpy\n",
            "  Downloading ffmpy-0.3.0.tar.gz (4.8 kB)\n",
            "Requirement already satisfied: pydantic in /usr/local/lib/python3.7/dist-packages (from gradio>=2.9.4->anomalib) (1.9.2)\n",
            "Collecting h11<0.13,>=0.11\n",
            "  Downloading h11-0.12.0-py3-none-any.whl (54 kB)\n",
            "\u001b[K     |████████████████████████████████| 54 kB 3.5 MB/s \n",
            "\u001b[?25hCollecting python-multipart\n",
            "  Downloading python-multipart-0.0.5.tar.gz (32 kB)\n",
            "Collecting pycryptodome\n",
            "  Downloading pycryptodome-3.15.0-cp35-abi3-manylinux2010_x86_64.whl (2.3 MB)\n",
            "\u001b[K     |████████████████████████████████| 2.3 MB 56.7 MB/s \n",
            "\u001b[?25hCollecting fastapi\n",
            "  Downloading fastapi-0.85.0-py3-none-any.whl (55 kB)\n",
            "\u001b[K     |████████████████████████████████| 55 kB 4.2 MB/s \n",
            "\u001b[?25hCollecting docstring-parser>=0.15\n",
            "  Downloading docstring_parser-0.15-py3-none-any.whl (36 kB)\n",
            "Requirement already satisfied: packaging in /usr/local/lib/python3.7/dist-packages (from kornia>=0.6.6->anomalib) (21.3)\n",
            "Collecting fonttools>=4.22.0\n",
            "  Downloading fonttools-4.37.4-py3-none-any.whl (960 kB)\n",
            "\u001b[K     |████████████████████████████████| 960 kB 68.8 MB/s \n",
            "\u001b[?25hRequirement already satisfied: pyparsing>=2.2.1 in /usr/local/lib/python3.7/dist-packages (from matplotlib>=3.4.3->anomalib) (3.0.9)\n",
            "Requirement already satisfied: cycler>=0.10 in /usr/local/lib/python3.7/dist-packages (from matplotlib>=3.4.3->anomalib) (0.11.0)\n",
            "Requirement already satisfied: kiwisolver>=1.0.1 in /usr/local/lib/python3.7/dist-packages (from matplotlib>=3.4.3->anomalib) (1.4.4)\n",
            "Collecting antlr4-python3-runtime==4.9.*\n",
            "  Downloading antlr4-python3-runtime-4.9.3.tar.gz (117 kB)\n",
            "\u001b[K     |████████████████████████████████| 117 kB 78.3 MB/s \n",
            "\u001b[?25hRequirement already satisfied: pytz>=2017.3 in /usr/local/lib/python3.7/dist-packages (from pandas>=1.1.0->anomalib) (2022.2.1)\n",
            "Requirement already satisfied: tqdm>=4.57.0 in /usr/local/lib/python3.7/dist-packages (from pytorch-lightning<1.7.0,>=1.6.0->anomalib) (4.64.1)\n",
            "Collecting pyDeprecate>=0.3.1\n",
            "  Downloading pyDeprecate-0.3.2-py3-none-any.whl (10 kB)\n",
            "Requirement already satisfied: tensorboard>=2.2.0 in /usr/local/lib/python3.7/dist-packages (from pytorch-lightning<1.7.0,>=1.6.0->anomalib) (2.8.0)\n",
            "Requirement already satisfied: attrs>=17.3.0 in /usr/local/lib/python3.7/dist-packages (from aiohttp->gradio>=2.9.4->anomalib) (22.1.0)\n",
            "Requirement already satisfied: frozenlist>=1.1.1 in /usr/local/lib/python3.7/dist-packages (from aiohttp->gradio>=2.9.4->anomalib) (1.3.1)\n",
            "Requirement already satisfied: multidict<7.0,>=4.5 in /usr/local/lib/python3.7/dist-packages (from aiohttp->gradio>=2.9.4->anomalib) (6.0.2)\n",
            "Requirement already satisfied: yarl<2.0,>=1.0 in /usr/local/lib/python3.7/dist-packages (from aiohttp->gradio>=2.9.4->anomalib) (1.8.1)\n",
            "Requirement already satisfied: aiosignal>=1.1.2 in /usr/local/lib/python3.7/dist-packages (from aiohttp->gradio>=2.9.4->anomalib) (1.2.0)\n",
            "Requirement already satisfied: asynctest==0.13.0 in /usr/local/lib/python3.7/dist-packages (from aiohttp->gradio>=2.9.4->anomalib) (0.13.0)\n",
            "Requirement already satisfied: async-timeout<5.0,>=4.0.0a3 in /usr/local/lib/python3.7/dist-packages (from aiohttp->gradio>=2.9.4->anomalib) (4.0.2)\n",
            "Requirement already satisfied: charset-normalizer<3.0,>=2.0 in /usr/local/lib/python3.7/dist-packages (from aiohttp->gradio>=2.9.4->anomalib) (2.1.1)\n",
            "Requirement already satisfied: scikit-learn>=0.19.1 in /usr/local/lib/python3.7/dist-packages (from qudida>=0.0.4->albumentations>=1.1.0->anomalib) (1.0.2)\n",
            "Requirement already satisfied: idna<3,>=2.5 in /usr/local/lib/python3.7/dist-packages (from requests<3,>=2.0.0->wandb==0.12.17->anomalib) (2.10)\n",
            "Requirement already satisfied: chardet<4,>=3.0.2 in /usr/local/lib/python3.7/dist-packages (from requests<3,>=2.0.0->wandb==0.12.17->anomalib) (3.0.4)\n",
            "Requirement already satisfied: urllib3!=1.25.0,!=1.25.1,<1.26,>=1.21.1 in /usr/local/lib/python3.7/dist-packages (from requests<3,>=2.0.0->wandb==0.12.17->anomalib) (1.24.3)\n",
            "Requirement already satisfied: certifi>=2017.4.17 in /usr/local/lib/python3.7/dist-packages (from requests<3,>=2.0.0->wandb==0.12.17->anomalib) (2022.6.15)\n",
            "Requirement already satisfied: tifffile>=2019.7.26 in /usr/local/lib/python3.7/dist-packages (from scikit-image>=0.14.2->imgaug==0.4.0->anomalib) (2021.11.2)\n",
            "Requirement already satisfied: PyWavelets>=1.1.1 in /usr/local/lib/python3.7/dist-packages (from scikit-image>=0.14.2->imgaug==0.4.0->anomalib) (1.3.0)\n",
            "Requirement already satisfied: networkx>=2.0 in /usr/local/lib/python3.7/dist-packages (from scikit-image>=0.14.2->imgaug==0.4.0->anomalib) (2.6.3)\n",
            "Requirement already satisfied: threadpoolctl>=2.0.0 in /usr/local/lib/python3.7/dist-packages (from scikit-learn>=0.19.1->qudida>=0.0.4->albumentations>=1.1.0->anomalib) (3.1.0)\n",
            "Requirement already satisfied: joblib>=0.11 in /usr/local/lib/python3.7/dist-packages (from scikit-learn>=0.19.1->qudida>=0.0.4->albumentations>=1.1.0->anomalib) (1.1.0)\n",
            "Collecting sentry-sdk>=1.0.0\n",
            "  Downloading sentry_sdk-1.9.9-py2.py3-none-any.whl (162 kB)\n",
            "\u001b[K     |████████████████████████████████| 162 kB 73.0 MB/s \n",
            "\u001b[?25h  Downloading sentry_sdk-1.9.8-py2.py3-none-any.whl (158 kB)\n",
            "\u001b[K     |████████████████████████████████| 158 kB 82.8 MB/s \n",
            "\u001b[?25h  Downloading sentry_sdk-1.9.7-py2.py3-none-any.whl (157 kB)\n",
            "\u001b[K     |████████████████████████████████| 157 kB 72.2 MB/s \n",
            "\u001b[?25h  Downloading sentry_sdk-1.9.6-py2.py3-none-any.whl (157 kB)\n",
            "\u001b[K     |████████████████████████████████| 157 kB 78.9 MB/s \n",
            "\u001b[?25h  Downloading sentry_sdk-1.9.5-py2.py3-none-any.whl (157 kB)\n",
            "\u001b[K     |████████████████████████████████| 157 kB 77.7 MB/s \n",
            "\u001b[?25h  Downloading sentry_sdk-1.9.4-py2.py3-none-any.whl (157 kB)\n",
            "\u001b[K     |████████████████████████████████| 157 kB 76.9 MB/s \n",
            "\u001b[?25h  Downloading sentry_sdk-1.9.3-py2.py3-none-any.whl (157 kB)\n",
            "\u001b[K     |████████████████████████████████| 157 kB 79.8 MB/s \n",
            "\u001b[?25h  Downloading sentry_sdk-1.9.2-py2.py3-none-any.whl (157 kB)\n",
            "\u001b[K     |████████████████████████████████| 157 kB 73.3 MB/s \n",
            "\u001b[?25h  Downloading sentry_sdk-1.9.1-py2.py3-none-any.whl (157 kB)\n",
            "\u001b[K     |████████████████████████████████| 157 kB 77.3 MB/s \n",
            "\u001b[?25h  Downloading sentry_sdk-1.9.0-py2.py3-none-any.whl (156 kB)\n",
            "\u001b[K     |████████████████████████████████| 156 kB 79.8 MB/s \n",
            "\u001b[?25hRequirement already satisfied: tensorboard-plugin-wit>=1.6.0 in /usr/local/lib/python3.7/dist-packages (from tensorboard>=2.2.0->pytorch-lightning<1.7.0,>=1.6.0->anomalib) (1.8.1)\n",
            "Requirement already satisfied: grpcio>=1.24.3 in /usr/local/lib/python3.7/dist-packages (from tensorboard>=2.2.0->pytorch-lightning<1.7.0,>=1.6.0->anomalib) (1.48.1)\n",
            "Requirement already satisfied: wheel>=0.26 in /usr/local/lib/python3.7/dist-packages (from tensorboard>=2.2.0->pytorch-lightning<1.7.0,>=1.6.0->anomalib) (0.37.1)\n",
            "Requirement already satisfied: google-auth-oauthlib<0.5,>=0.4.1 in /usr/local/lib/python3.7/dist-packages (from tensorboard>=2.2.0->pytorch-lightning<1.7.0,>=1.6.0->anomalib) (0.4.6)\n",
            "Requirement already satisfied: google-auth<3,>=1.6.3 in /usr/local/lib/python3.7/dist-packages (from tensorboard>=2.2.0->pytorch-lightning<1.7.0,>=1.6.0->anomalib) (1.35.0)\n",
            "Requirement already satisfied: tensorboard-data-server<0.7.0,>=0.6.0 in /usr/local/lib/python3.7/dist-packages (from tensorboard>=2.2.0->pytorch-lightning<1.7.0,>=1.6.0->anomalib) (0.6.1)\n",
            "Requirement already satisfied: markdown>=2.6.8 in /usr/local/lib/python3.7/dist-packages (from tensorboard>=2.2.0->pytorch-lightning<1.7.0,>=1.6.0->anomalib) (3.4.1)\n",
            "Requirement already satisfied: werkzeug>=0.11.15 in /usr/local/lib/python3.7/dist-packages (from tensorboard>=2.2.0->pytorch-lightning<1.7.0,>=1.6.0->anomalib) (1.0.1)\n",
            "Requirement already satisfied: absl-py>=0.4 in /usr/local/lib/python3.7/dist-packages (from tensorboard>=2.2.0->pytorch-lightning<1.7.0,>=1.6.0->anomalib) (1.2.0)\n",
            "Requirement already satisfied: rsa<5,>=3.1.4 in /usr/local/lib/python3.7/dist-packages (from google-auth<3,>=1.6.3->tensorboard>=2.2.0->pytorch-lightning<1.7.0,>=1.6.0->anomalib) (4.9)\n",
            "Requirement already satisfied: pyasn1-modules>=0.2.1 in /usr/local/lib/python3.7/dist-packages (from google-auth<3,>=1.6.3->tensorboard>=2.2.0->pytorch-lightning<1.7.0,>=1.6.0->anomalib) (0.2.8)\n",
            "Requirement already satisfied: cachetools<5.0,>=2.0.0 in /usr/local/lib/python3.7/dist-packages (from google-auth<3,>=1.6.3->tensorboard>=2.2.0->pytorch-lightning<1.7.0,>=1.6.0->anomalib) (4.2.4)\n",
            "Requirement already satisfied: requests-oauthlib>=0.7.0 in /usr/local/lib/python3.7/dist-packages (from google-auth-oauthlib<0.5,>=0.4.1->tensorboard>=2.2.0->pytorch-lightning<1.7.0,>=1.6.0->anomalib) (1.3.1)\n",
            "Requirement already satisfied: importlib-metadata>=4.4 in /usr/local/lib/python3.7/dist-packages (from markdown>=2.6.8->tensorboard>=2.2.0->pytorch-lightning<1.7.0,>=1.6.0->anomalib) (4.12.0)\n",
            "Requirement already satisfied: zipp>=0.5 in /usr/local/lib/python3.7/dist-packages (from importlib-metadata>=4.4->markdown>=2.6.8->tensorboard>=2.2.0->pytorch-lightning<1.7.0,>=1.6.0->anomalib) (3.8.1)\n",
            "Requirement already satisfied: pyasn1<0.5.0,>=0.4.6 in /usr/local/lib/python3.7/dist-packages (from pyasn1-modules>=0.2.1->google-auth<3,>=1.6.3->tensorboard>=2.2.0->pytorch-lightning<1.7.0,>=1.6.0->anomalib) (0.4.8)\n",
            "Requirement already satisfied: oauthlib>=3.0.0 in /usr/local/lib/python3.7/dist-packages (from requests-oauthlib>=0.7.0->google-auth-oauthlib<0.5,>=0.4.1->tensorboard>=2.2.0->pytorch-lightning<1.7.0,>=1.6.0->anomalib) (3.2.0)\n",
            "Collecting torch>=1.4\n",
            "  Downloading torch-1.11.0-cp37-cp37m-manylinux1_x86_64.whl (750.6 MB)\n",
            "\u001b[K     |████████████████████████████████| 750.6 MB 12 kB/s \n",
            "\u001b[?25hCollecting starlette==0.20.4\n",
            "  Downloading starlette-0.20.4-py3-none-any.whl (63 kB)\n",
            "\u001b[K     |████████████████████████████████| 63 kB 2.8 MB/s \n",
            "\u001b[?25hCollecting anyio<5,>=3.4.0\n",
            "  Downloading anyio-3.6.1-py3-none-any.whl (80 kB)\n",
            "\u001b[K     |████████████████████████████████| 80 kB 10.6 MB/s \n",
            "\u001b[?25hCollecting sniffio>=1.1\n",
            "  Downloading sniffio-1.3.0-py3-none-any.whl (10 kB)\n",
            "Collecting rfc3986[idna2008]<2,>=1.3\n",
            "  Downloading rfc3986-1.5.0-py2.py3-none-any.whl (31 kB)\n",
            "Collecting httpcore<0.16.0,>=0.15.0\n",
            "  Downloading httpcore-0.15.0-py3-none-any.whl (68 kB)\n",
            "\u001b[K     |████████████████████████████████| 68 kB 4.0 MB/s \n",
            "\u001b[?25hRequirement already satisfied: MarkupSafe>=0.23 in /usr/local/lib/python3.7/dist-packages (from jinja2->gradio>=2.9.4->anomalib) (2.0.1)\n",
            "Collecting mdurl~=0.1\n",
            "  Downloading mdurl-0.1.2-py3-none-any.whl (10.0 kB)\n",
            "Collecting linkify-it-py~=1.0\n",
            "  Downloading linkify_it_py-1.0.3-py3-none-any.whl (19 kB)\n",
            "Collecting mdit-py-plugins\n",
            "  Downloading mdit_py_plugins-0.3.1-py3-none-any.whl (46 kB)\n",
            "\u001b[K     |████████████████████████████████| 46 kB 4.7 MB/s \n",
            "\u001b[?25hCollecting uc-micro-py\n",
            "  Downloading uc_micro_py-1.0.1-py3-none-any.whl (6.2 kB)\n",
            "Collecting bcrypt>=3.1.3\n",
            "  Downloading bcrypt-4.0.0-cp36-abi3-manylinux_2_24_x86_64.whl (594 kB)\n",
            "\u001b[K     |████████████████████████████████| 594 kB 69.2 MB/s \n",
            "\u001b[?25hCollecting cryptography>=2.5\n",
            "  Downloading cryptography-38.0.1-cp36-abi3-manylinux_2_24_x86_64.whl (4.0 MB)\n",
            "\u001b[K     |████████████████████████████████| 4.0 MB 57.3 MB/s \n",
            "\u001b[?25hCollecting pynacl>=1.0.1\n",
            "  Downloading PyNaCl-1.5.0-cp36-abi3-manylinux_2_17_x86_64.manylinux2014_x86_64.manylinux_2_24_x86_64.whl (856 kB)\n",
            "\u001b[K     |████████████████████████████████| 856 kB 60.7 MB/s \n",
            "\u001b[?25hRequirement already satisfied: cffi>=1.12 in /usr/local/lib/python3.7/dist-packages (from cryptography>=2.5->paramiko->gradio>=2.9.4->anomalib) (1.15.1)\n",
            "Requirement already satisfied: pycparser in /usr/local/lib/python3.7/dist-packages (from cffi>=1.12->cryptography>=2.5->paramiko->gradio>=2.9.4->anomalib) (2.21)\n",
            "Building wheels for collected packages: antlr4-python3-runtime, ffmpy, pathtools, python-multipart\n",
            "  Building wheel for antlr4-python3-runtime (setup.py) ... \u001b[?25l\u001b[?25hdone\n",
            "  Created wheel for antlr4-python3-runtime: filename=antlr4_python3_runtime-4.9.3-py3-none-any.whl size=144575 sha256=35fd60bd408604832ae955eb36b2a2a5cb15c2fa3f9af8596cc4456bbc0fe3f6\n",
            "  Stored in directory: /root/.cache/pip/wheels/8b/8d/53/2af8772d9aec614e3fc65e53d4a993ad73c61daa8bbd85a873\n",
            "  Building wheel for ffmpy (setup.py) ... \u001b[?25l\u001b[?25hdone\n",
            "  Created wheel for ffmpy: filename=ffmpy-0.3.0-py3-none-any.whl size=4712 sha256=04ba253e2df992a3ac90ee6f33131ada8dfec5cfdc065ca800c031717d78d21c\n",
            "  Stored in directory: /root/.cache/pip/wheels/13/e4/6c/e8059816e86796a597c6e6b0d4c880630f51a1fcfa0befd5e6\n",
            "  Building wheel for pathtools (setup.py) ... \u001b[?25l\u001b[?25hdone\n",
            "  Created wheel for pathtools: filename=pathtools-0.1.2-py3-none-any.whl size=8806 sha256=6fb137e424cca2a72d341682f66242294ef48349ff6b7af25bf50f33661a72e8\n",
            "  Stored in directory: /root/.cache/pip/wheels/3e/31/09/fa59cef12cdcfecc627b3d24273699f390e71828921b2cbba2\n",
            "  Building wheel for python-multipart (setup.py) ... \u001b[?25l\u001b[?25hdone\n",
            "  Created wheel for python-multipart: filename=python_multipart-0.0.5-py3-none-any.whl size=31678 sha256=12d042fad3799a56b3d86d8c32756e5a9d6eb06d94b6545bcd8b77af4fb2e1dc\n",
            "  Stored in directory: /root/.cache/pip/wheels/2c/41/7c/bfd1c180534ffdcc0972f78c5758f89881602175d48a8bcd2c\n",
            "Successfully built antlr4-python3-runtime ffmpy pathtools python-multipart\n",
            "Installing collected packages: sniffio, mdurl, uc-micro-py, smmap, rfc3986, markdown-it-py, h11, fonttools, anyio, torch, starlette, pynacl, mdit-py-plugins, matplotlib, linkify-it-py, httpcore, gitdb, cryptography, bcrypt, websockets, uvicorn, torchvision, torchmetrics, shortuuid, setproctitle, sentry-sdk, python-multipart, pydub, pyDeprecate, pycryptodome, pathtools, paramiko, orjson, jsonargparse, httpx, GitPython, ffmpy, fastapi, docstring-parser, docker-pycreds, antlr4-python3-runtime, wandb, torchtext, timm, pytorch-lightning, omegaconf, kornia, gradio, einops, anomalib\n",
            "  Attempting uninstall: torch\n",
            "    Found existing installation: torch 1.12.1+cu113\n",
            "    Uninstalling torch-1.12.1+cu113:\n",
            "      Successfully uninstalled torch-1.12.1+cu113\n",
            "  Attempting uninstall: matplotlib\n",
            "    Found existing installation: matplotlib 3.2.2\n",
            "    Uninstalling matplotlib-3.2.2:\n",
            "      Successfully uninstalled matplotlib-3.2.2\n",
            "  Attempting uninstall: torchvision\n",
            "    Found existing installation: torchvision 0.13.1+cu113\n",
            "    Uninstalling torchvision-0.13.1+cu113:\n",
            "      Successfully uninstalled torchvision-0.13.1+cu113\n",
            "  Attempting uninstall: torchtext\n",
            "    Found existing installation: torchtext 0.13.1\n",
            "    Uninstalling torchtext-0.13.1:\n",
            "      Successfully uninstalled torchtext-0.13.1\n",
            "\u001b[31mERROR: pip's dependency resolver does not currently take into account all the packages that are installed. This behaviour is the source of the following dependency conflicts.\n",
            "torchaudio 0.12.1+cu113 requires torch==1.12.1, but you have torch 1.11.0 which is incompatible.\u001b[0m\n",
            "Successfully installed GitPython-3.1.27 anomalib-0.3.6 antlr4-python3-runtime-4.9.3 anyio-3.6.1 bcrypt-4.0.0 cryptography-38.0.1 docker-pycreds-0.4.0 docstring-parser-0.15 einops-0.5.0 fastapi-0.85.0 ffmpy-0.3.0 fonttools-4.37.4 gitdb-4.0.9 gradio-3.4.1 h11-0.12.0 httpcore-0.15.0 httpx-0.23.0 jsonargparse-4.15.0 kornia-0.6.7 linkify-it-py-1.0.3 markdown-it-py-2.1.0 matplotlib-3.5.3 mdit-py-plugins-0.3.1 mdurl-0.1.2 omegaconf-2.2.3 orjson-3.8.0 paramiko-2.11.0 pathtools-0.1.2 pyDeprecate-0.3.2 pycryptodome-3.15.0 pydub-0.25.1 pynacl-1.5.0 python-multipart-0.0.5 pytorch-lightning-1.6.5 rfc3986-1.5.0 sentry-sdk-1.9.0 setproctitle-1.3.2 shortuuid-1.0.9 smmap-5.0.0 sniffio-1.3.0 starlette-0.20.4 timm-0.5.4 torch-1.11.0 torchmetrics-0.9.3 torchtext-0.12.0 torchvision-0.12.0 uc-micro-py-1.0.1 uvicorn-0.18.3 wandb-0.12.17 websockets-10.3\n"
          ]
        },
        {
          "output_type": "display_data",
          "data": {
            "application/vnd.colab-display-data+json": {
              "pip_warning": {
                "packages": [
                  "matplotlib",
                  "mpl_toolkits",
                  "pydevd_plugins"
                ]
              }
            }
          },
          "metadata": {}
        }
      ]
    },
    {
      "cell_type": "code",
      "source": [
        "!ls"
      ],
      "metadata": {
        "id": "zqPoArfU8q0G"
      },
      "execution_count": null,
      "outputs": []
    },
    {
      "cell_type": "code",
      "source": [
        "%cd anomalib"
      ],
      "metadata": {
        "id": "sDxgOQaT_nBo",
        "colab": {
          "base_uri": "https://localhost:8080/"
        },
        "outputId": "f647d8ef-4a7d-42bc-af2f-8851dcbcd50f"
      },
      "execution_count": null,
      "outputs": [
        {
          "output_type": "stream",
          "name": "stdout",
          "text": [
            "/content/anomalib\n"
          ]
        }
      ]
    },
    {
      "cell_type": "code",
      "source": [
        "!ls"
      ],
      "metadata": {
        "id": "lKjn5J5d_p5v",
        "colab": {
          "base_uri": "https://localhost:8080/"
        },
        "outputId": "6ef25a0a-86e7-44d2-e37c-5d1b2eddb8a7"
      },
      "execution_count": null,
      "outputs": [
        {
          "output_type": "stream",
          "name": "stdout",
          "text": [
            "anomalib\t    datasets\t     notebooks\t     tests\n",
            "CHANGELOG.md\t    Dockerfile\t     pyproject.toml  third-party-programs.txt\n",
            "CITATION.cff\t    docs\t     README.md\t     tools\n",
            "CODE_OF_CONDUCT.md  LICENSE\t     requirements    tox.ini\n",
            "configs\t\t    MANIFEST.in      results\n",
            "CONTRIBUTING.md     markdownlint.rb  setup.py\n"
          ]
        }
      ]
    },
    {
      "cell_type": "code",
      "source": [
        "%cd requirements "
      ],
      "metadata": {
        "colab": {
          "base_uri": "https://localhost:8080/"
        },
        "id": "8hg7ZBr1BV9O",
        "outputId": "7d2a32ae-5838-4dd4-ff43-ded11df776b2"
      },
      "execution_count": null,
      "outputs": [
        {
          "output_type": "stream",
          "name": "stdout",
          "text": [
            "/content/anomalib/requirements\n"
          ]
        }
      ]
    },
    {
      "cell_type": "code",
      "source": [
        "!pip install -r openvino.txt"
      ],
      "metadata": {
        "colab": {
          "base_uri": "https://localhost:8080/",
          "height": 1000
        },
        "id": "D18X7t7DBG12",
        "outputId": "28754093-905e-400a-83d3-a9eeef27ed4f"
      },
      "execution_count": null,
      "outputs": [
        {
          "output_type": "stream",
          "name": "stdout",
          "text": [
            "Looking in indexes: https://pypi.org/simple, https://us-python.pkg.dev/colab-wheels/public/simple/\n",
            "Requirement already satisfied: defusedxml==0.7.1 in /usr/local/lib/python3.7/dist-packages (from -r openvino.txt (line 1)) (0.7.1)\n",
            "Collecting requests==2.26.0\n",
            "  Downloading requests-2.26.0-py2.py3-none-any.whl (62 kB)\n",
            "\u001b[K     |████████████████████████████████| 62 kB 670 kB/s \n",
            "\u001b[?25hRequirement already satisfied: networkx~=2.5 in /usr/local/lib/python3.7/dist-packages (from -r openvino.txt (line 3)) (2.6.3)\n",
            "Collecting nncf==2.1.0\n",
            "  Downloading nncf-2.1.0-py3-none-any.whl (594 kB)\n",
            "\u001b[K     |████████████████████████████████| 594 kB 48.9 MB/s \n",
            "\u001b[?25hCollecting onnx==1.10.1\n",
            "  Downloading onnx-1.10.1-cp37-cp37m-manylinux_2_12_x86_64.manylinux2010_x86_64.whl (12.3 MB)\n",
            "\u001b[K     |████████████████████████████████| 12.3 MB 26.3 MB/s \n",
            "\u001b[?25hCollecting openvino-dev==2022.1.0\n",
            "  Downloading openvino_dev-2022.1.0-7019-py3-none-any.whl (5.8 MB)\n",
            "\u001b[K     |████████████████████████████████| 5.8 MB 52.1 MB/s \n",
            "\u001b[?25hRequirement already satisfied: certifi>=2017.4.17 in /usr/local/lib/python3.7/dist-packages (from requests==2.26.0->-r openvino.txt (line 2)) (2022.6.15)\n",
            "Collecting charset-normalizer~=2.0.0\n",
            "  Downloading charset_normalizer-2.0.12-py3-none-any.whl (39 kB)\n",
            "Requirement already satisfied: urllib3<1.27,>=1.21.1 in /usr/local/lib/python3.7/dist-packages (from requests==2.26.0->-r openvino.txt (line 2)) (1.24.3)\n",
            "Requirement already satisfied: idna<4,>=2.5 in /usr/local/lib/python3.7/dist-packages (from requests==2.26.0->-r openvino.txt (line 2)) (2.10)\n",
            "Requirement already satisfied: scikit-learn>=0.24.0 in /usr/local/lib/python3.7/dist-packages (from nncf==2.1.0->-r openvino.txt (line 4)) (1.0.2)\n",
            "Collecting pyparsing<3.0\n",
            "  Downloading pyparsing-2.4.7-py2.py3-none-any.whl (67 kB)\n",
            "\u001b[K     |████████████████████████████████| 67 kB 5.4 MB/s \n",
            "\u001b[?25hRequirement already satisfied: pandas<1.4.0rc0,>=1.1.5 in /usr/local/lib/python3.7/dist-packages (from nncf==2.1.0->-r openvino.txt (line 4)) (1.3.5)\n",
            "Collecting numpy~=1.19.2\n",
            "  Downloading numpy-1.19.5-cp37-cp37m-manylinux2010_x86_64.whl (14.8 MB)\n",
            "\u001b[K     |████████████████████████████████| 14.8 MB 54.8 MB/s \n",
            "\u001b[?25hRequirement already satisfied: wheel>=0.36.1 in /usr/local/lib/python3.7/dist-packages (from nncf==2.1.0->-r openvino.txt (line 4)) (0.37.1)\n",
            "Collecting jsonschema==3.2.0\n",
            "  Downloading jsonschema-3.2.0-py2.py3-none-any.whl (56 kB)\n",
            "\u001b[K     |████████████████████████████████| 56 kB 4.0 MB/s \n",
            "\u001b[?25hCollecting jstyleson>=0.0.2\n",
            "  Downloading jstyleson-0.0.2.tar.gz (2.0 kB)\n",
            "Requirement already satisfied: tqdm>=4.54.1 in /usr/local/lib/python3.7/dist-packages (from nncf==2.1.0->-r openvino.txt (line 4)) (4.64.1)\n",
            "Requirement already satisfied: scipy<1.8,>=1.3.2 in /usr/local/lib/python3.7/dist-packages (from nncf==2.1.0->-r openvino.txt (line 4)) (1.7.3)\n",
            "Collecting addict>=2.4.0\n",
            "  Downloading addict-2.4.0-py3-none-any.whl (3.8 kB)\n",
            "Collecting natsort>=7.1.0\n",
            "  Downloading natsort-8.2.0-py3-none-any.whl (37 kB)\n",
            "Collecting pydot>=1.4.1\n",
            "  Downloading pydot-1.4.2-py2.py3-none-any.whl (21 kB)\n",
            "Collecting texttable>=1.6.3\n",
            "  Downloading texttable-1.6.4-py2.py3-none-any.whl (10 kB)\n",
            "Requirement already satisfied: matplotlib>=3.3.4 in /usr/local/lib/python3.7/dist-packages (from nncf==2.1.0->-r openvino.txt (line 4)) (3.5.3)\n",
            "Collecting ninja>=1.10.0.post2\n",
            "  Downloading ninja-1.10.2.4-py2.py3-none-manylinux_2_5_x86_64.manylinux1_x86_64.whl (120 kB)\n",
            "\u001b[K     |████████████████████████████████| 120 kB 66.1 MB/s \n",
            "\u001b[?25hRequirement already satisfied: typing-extensions>=3.6.2.1 in /usr/local/lib/python3.7/dist-packages (from onnx==1.10.1->-r openvino.txt (line 5)) (4.1.1)\n",
            "Requirement already satisfied: six in /usr/local/lib/python3.7/dist-packages (from onnx==1.10.1->-r openvino.txt (line 5)) (1.15.0)\n",
            "Requirement already satisfied: protobuf in /usr/local/lib/python3.7/dist-packages (from onnx==1.10.1->-r openvino.txt (line 5)) (3.17.3)\n",
            "Collecting opencv-python==4.5.*\n",
            "  Downloading opencv_python-4.5.5.64-cp36-abi3-manylinux_2_17_x86_64.manylinux2014_x86_64.whl (60.5 MB)\n",
            "\u001b[K     |████████████████████████████████| 60.5 MB 1.2 MB/s \n",
            "\u001b[?25hCollecting progress>=1.5\n",
            "  Downloading progress-1.6.tar.gz (7.8 kB)\n",
            "Collecting openvino-telemetry>=2022.1.0\n",
            "  Downloading openvino_telemetry-2022.1.1-py3-none-any.whl (20 kB)\n",
            "Collecting scipy<1.8,>=1.3.2\n",
            "  Downloading scipy-1.5.4-cp37-cp37m-manylinux1_x86_64.whl (25.9 MB)\n",
            "\u001b[K     |████████████████████████████████| 25.9 MB 1.4 MB/s \n",
            "\u001b[?25hCollecting sentencepiece>=0.1.95\n",
            "  Downloading sentencepiece-0.1.97-cp37-cp37m-manylinux_2_17_x86_64.manylinux2014_x86_64.whl (1.3 MB)\n",
            "\u001b[K     |████████████████████████████████| 1.3 MB 56.7 MB/s \n",
            "\u001b[?25hCollecting pydicom>=2.1.2\n",
            "  Downloading pydicom-2.3.0-py3-none-any.whl (2.0 MB)\n",
            "\u001b[K     |████████████████████████████████| 2.0 MB 45.3 MB/s \n",
            "\u001b[?25hRequirement already satisfied: shapely>=1.7.1 in /usr/local/lib/python3.7/dist-packages (from openvino-dev==2022.1.0->-r openvino.txt (line 6)) (1.8.4)\n",
            "Collecting fast-ctc-decode>=0.2.5\n",
            "  Downloading fast_ctc_decode-0.3.2-cp37-cp37m-manylinux_2_5_x86_64.manylinux1_x86_64.manylinux_2_12_x86_64.manylinux2010_x86_64.whl (517 kB)\n",
            "\u001b[K     |████████████████████████████████| 517 kB 72.5 MB/s \n",
            "\u001b[?25hCollecting nibabel>=3.2.1\n",
            "  Downloading nibabel-4.0.2-py3-none-any.whl (3.3 MB)\n",
            "\u001b[K     |████████████████████████████████| 3.3 MB 57.1 MB/s \n",
            "\u001b[?25hRequirement already satisfied: nltk>=3.5 in /usr/local/lib/python3.7/dist-packages (from openvino-dev==2022.1.0->-r openvino.txt (line 6)) (3.7)\n",
            "Collecting parasail>=1.2.4\n",
            "  Downloading parasail-1.3.3-py2.py3-none-manylinux_2_17_x86_64.manylinux2014_x86_64.whl (15.6 MB)\n",
            "\u001b[K     |████████████████████████████████| 15.6 MB 30.7 MB/s \n",
            "\u001b[?25hRequirement already satisfied: pyyaml>=5.4.1 in /usr/local/lib/python3.7/dist-packages (from openvino-dev==2022.1.0->-r openvino.txt (line 6)) (6.0)\n",
            "Collecting scikit-learn>=0.24.0\n",
            "  Downloading scikit_learn-0.24.2-cp37-cp37m-manylinux2010_x86_64.whl (22.3 MB)\n",
            "\u001b[K     |████████████████████████████████| 22.3 MB 1.4 MB/s \n",
            "\u001b[?25hCollecting py-cpuinfo>=7.0.0\n",
            "  Downloading py-cpuinfo-8.0.0.tar.gz (99 kB)\n",
            "\u001b[K     |████████████████████████████████| 99 kB 8.6 MB/s \n",
            "\u001b[?25hCollecting pandas<1.4.0rc0,>=1.1.5\n",
            "  Downloading pandas-1.1.5-cp37-cp37m-manylinux1_x86_64.whl (9.5 MB)\n",
            "\u001b[K     |████████████████████████████████| 9.5 MB 53.6 MB/s \n",
            "\u001b[?25hCollecting tokenizers~=0.10.1\n",
            "  Downloading tokenizers-0.10.3-cp37-cp37m-manylinux_2_5_x86_64.manylinux1_x86_64.manylinux_2_12_x86_64.manylinux2010_x86_64.whl (3.3 MB)\n",
            "\u001b[K     |████████████████████████████████| 3.3 MB 57.3 MB/s \n",
            "\u001b[?25hCollecting imagecodecs~=2021.11.20\n",
            "  Downloading imagecodecs-2021.11.20-cp37-cp37m-manylinux_2_17_x86_64.manylinux2014_x86_64.whl (31.0 MB)\n",
            "\u001b[K     |████████████████████████████████| 31.0 MB 85.5 MB/s \n",
            "\u001b[?25hCollecting openvino==2022.1.0\n",
            "  Downloading openvino-2022.1.0-7019-cp37-cp37m-manylinux_2_27_x86_64.whl (26.1 MB)\n",
            "\u001b[K     |████████████████████████████████| 26.1 MB 1.3 MB/s \n",
            "\u001b[?25hCollecting transformers>=4.5\n",
            "  Downloading transformers-4.22.2-py3-none-any.whl (4.9 MB)\n",
            "\u001b[K     |████████████████████████████████| 4.9 MB 61.4 MB/s \n",
            "\u001b[?25hCollecting lmdb>=1.2.1\n",
            "  Downloading lmdb-1.3.0-cp37-cp37m-manylinux_2_12_x86_64.manylinux2010_x86_64.whl (298 kB)\n",
            "\u001b[K     |████████████████████████████████| 298 kB 64.5 MB/s \n",
            "\u001b[?25hCollecting pyclipper>=1.2.1\n",
            "  Downloading pyclipper-1.3.0.post3-cp37-cp37m-manylinux_2_5_x86_64.manylinux1_x86_64.whl (604 kB)\n",
            "\u001b[K     |████████████████████████████████| 604 kB 49.7 MB/s \n",
            "\u001b[?25hCollecting rawpy>=0.16.0\n",
            "  Downloading rawpy-0.17.2-cp37-cp37m-manylinux_2_17_x86_64.manylinux2014_x86_64.whl (1.9 MB)\n",
            "\u001b[K     |████████████████████████████████| 1.9 MB 61.8 MB/s \n",
            "\u001b[?25hRequirement already satisfied: scikit-image>=0.17.2 in /usr/local/lib/python3.7/dist-packages (from openvino-dev==2022.1.0->-r openvino.txt (line 6)) (0.18.3)\n",
            "Collecting pillow>=8.1.2\n",
            "  Downloading Pillow-9.2.0-cp37-cp37m-manylinux_2_17_x86_64.manylinux2014_x86_64.whl (3.1 MB)\n",
            "\u001b[K     |████████████████████████████████| 3.1 MB 57.5 MB/s \n",
            "\u001b[?25hRequirement already satisfied: setuptools in /usr/local/lib/python3.7/dist-packages (from jsonschema==3.2.0->nncf==2.1.0->-r openvino.txt (line 4)) (57.4.0)\n",
            "Requirement already satisfied: pyrsistent>=0.14.0 in /usr/local/lib/python3.7/dist-packages (from jsonschema==3.2.0->nncf==2.1.0->-r openvino.txt (line 4)) (0.18.1)\n",
            "Requirement already satisfied: attrs>=17.4.0 in /usr/local/lib/python3.7/dist-packages (from jsonschema==3.2.0->nncf==2.1.0->-r openvino.txt (line 4)) (22.1.0)\n",
            "Requirement already satisfied: importlib-metadata in /usr/local/lib/python3.7/dist-packages (from jsonschema==3.2.0->nncf==2.1.0->-r openvino.txt (line 4)) (4.12.0)\n",
            "Requirement already satisfied: fonttools>=4.22.0 in /usr/local/lib/python3.7/dist-packages (from matplotlib>=3.3.4->nncf==2.1.0->-r openvino.txt (line 4)) (4.37.4)\n",
            "Requirement already satisfied: python-dateutil>=2.7 in /usr/local/lib/python3.7/dist-packages (from matplotlib>=3.3.4->nncf==2.1.0->-r openvino.txt (line 4)) (2.8.2)\n",
            "Requirement already satisfied: packaging>=20.0 in /usr/local/lib/python3.7/dist-packages (from matplotlib>=3.3.4->nncf==2.1.0->-r openvino.txt (line 4)) (21.3)\n",
            "Requirement already satisfied: kiwisolver>=1.0.1 in /usr/local/lib/python3.7/dist-packages (from matplotlib>=3.3.4->nncf==2.1.0->-r openvino.txt (line 4)) (1.4.4)\n",
            "Requirement already satisfied: cycler>=0.10 in /usr/local/lib/python3.7/dist-packages (from matplotlib>=3.3.4->nncf==2.1.0->-r openvino.txt (line 4)) (0.11.0)\n",
            "Requirement already satisfied: click in /usr/local/lib/python3.7/dist-packages (from nltk>=3.5->openvino-dev==2022.1.0->-r openvino.txt (line 6)) (7.1.2)\n",
            "Requirement already satisfied: joblib in /usr/local/lib/python3.7/dist-packages (from nltk>=3.5->openvino-dev==2022.1.0->-r openvino.txt (line 6)) (1.1.0)\n",
            "Requirement already satisfied: regex>=2021.8.3 in /usr/local/lib/python3.7/dist-packages (from nltk>=3.5->openvino-dev==2022.1.0->-r openvino.txt (line 6)) (2022.6.2)\n",
            "Requirement already satisfied: pytz>=2017.2 in /usr/local/lib/python3.7/dist-packages (from pandas<1.4.0rc0,>=1.1.5->nncf==2.1.0->-r openvino.txt (line 4)) (2022.2.1)\n",
            "Requirement already satisfied: PyWavelets>=1.1.1 in /usr/local/lib/python3.7/dist-packages (from scikit-image>=0.17.2->openvino-dev==2022.1.0->-r openvino.txt (line 6)) (1.3.0)\n",
            "Requirement already satisfied: imageio>=2.3.0 in /usr/local/lib/python3.7/dist-packages (from scikit-image>=0.17.2->openvino-dev==2022.1.0->-r openvino.txt (line 6)) (2.9.0)\n",
            "Requirement already satisfied: tifffile>=2019.7.26 in /usr/local/lib/python3.7/dist-packages (from scikit-image>=0.17.2->openvino-dev==2022.1.0->-r openvino.txt (line 6)) (2021.11.2)\n",
            "Requirement already satisfied: threadpoolctl>=2.0.0 in /usr/local/lib/python3.7/dist-packages (from scikit-learn>=0.24.0->nncf==2.1.0->-r openvino.txt (line 4)) (3.1.0)\n",
            "Collecting transformers>=4.5\n",
            "  Downloading transformers-4.22.1-py3-none-any.whl (4.9 MB)\n",
            "\u001b[K     |████████████████████████████████| 4.9 MB 61.6 MB/s \n",
            "\u001b[?25h  Downloading transformers-4.22.0-py3-none-any.whl (4.9 MB)\n",
            "\u001b[K     |████████████████████████████████| 4.9 MB 55.6 MB/s \n",
            "\u001b[?25h  Downloading transformers-4.21.3-py3-none-any.whl (4.7 MB)\n",
            "\u001b[K     |████████████████████████████████| 4.7 MB 60.8 MB/s \n",
            "\u001b[?25h  Downloading transformers-4.21.2-py3-none-any.whl (4.7 MB)\n",
            "\u001b[K     |████████████████████████████████| 4.7 MB 57.3 MB/s \n",
            "\u001b[?25h  Downloading transformers-4.21.1-py3-none-any.whl (4.7 MB)\n",
            "\u001b[K     |████████████████████████████████| 4.7 MB 62.7 MB/s \n",
            "\u001b[?25h  Downloading transformers-4.21.0-py3-none-any.whl (4.7 MB)\n",
            "\u001b[K     |████████████████████████████████| 4.7 MB 59.2 MB/s \n",
            "\u001b[?25h  Downloading transformers-4.20.1-py3-none-any.whl (4.4 MB)\n",
            "\u001b[K     |████████████████████████████████| 4.4 MB 49.8 MB/s \n",
            "\u001b[?25h  Downloading transformers-4.20.0-py3-none-any.whl (4.4 MB)\n",
            "\u001b[K     |████████████████████████████████| 4.4 MB 55.8 MB/s \n",
            "\u001b[?25h  Downloading transformers-4.19.4-py3-none-any.whl (4.2 MB)\n",
            "\u001b[K     |████████████████████████████████| 4.2 MB 56.5 MB/s \n",
            "\u001b[?25h  Downloading transformers-4.19.3-py3-none-any.whl (4.2 MB)\n",
            "\u001b[K     |████████████████████████████████| 4.2 MB 56.4 MB/s \n",
            "\u001b[?25h  Downloading transformers-4.19.2-py3-none-any.whl (4.2 MB)\n",
            "\u001b[K     |████████████████████████████████| 4.2 MB 62.0 MB/s \n",
            "\u001b[?25h  Downloading transformers-4.19.1-py3-none-any.whl (4.2 MB)\n",
            "\u001b[K     |████████████████████████████████| 4.2 MB 55.1 MB/s \n",
            "\u001b[?25h  Downloading transformers-4.19.0-py3-none-any.whl (4.2 MB)\n",
            "\u001b[K     |████████████████████████████████| 4.2 MB 58.6 MB/s \n",
            "\u001b[?25h  Downloading transformers-4.18.0-py3-none-any.whl (4.0 MB)\n",
            "\u001b[K     |████████████████████████████████| 4.0 MB 59.0 MB/s \n",
            "\u001b[?25hCollecting sacremoses\n",
            "  Downloading sacremoses-0.0.53.tar.gz (880 kB)\n",
            "\u001b[K     |████████████████████████████████| 880 kB 59.9 MB/s \n",
            "\u001b[?25hCollecting transformers>=4.5\n",
            "  Downloading transformers-4.17.0-py3-none-any.whl (3.8 MB)\n",
            "\u001b[K     |████████████████████████████████| 3.8 MB 59.2 MB/s \n",
            "\u001b[?25h  Downloading transformers-4.16.2-py3-none-any.whl (3.5 MB)\n",
            "\u001b[K     |████████████████████████████████| 3.5 MB 61.3 MB/s \n",
            "\u001b[?25hRequirement already satisfied: filelock in /usr/local/lib/python3.7/dist-packages (from transformers>=4.5->openvino-dev==2022.1.0->-r openvino.txt (line 6)) (3.8.0)\n",
            "Collecting huggingface-hub<1.0,>=0.1.0\n",
            "  Downloading huggingface_hub-0.10.0-py3-none-any.whl (163 kB)\n",
            "\u001b[K     |████████████████████████████████| 163 kB 69.0 MB/s \n",
            "\u001b[?25hRequirement already satisfied: zipp>=0.5 in /usr/local/lib/python3.7/dist-packages (from importlib-metadata->jsonschema==3.2.0->nncf==2.1.0->-r openvino.txt (line 4)) (3.8.1)\n",
            "Building wheels for collected packages: jstyleson, progress, py-cpuinfo, sacremoses\n",
            "  Building wheel for jstyleson (setup.py) ... \u001b[?25l\u001b[?25hdone\n",
            "  Created wheel for jstyleson: filename=jstyleson-0.0.2-py3-none-any.whl size=2402 sha256=0b07d61eee29f190e208c8734712e567efd957a9811ca0bd3d94529619cd012a\n",
            "  Stored in directory: /root/.cache/pip/wheels/be/8e/03/d5962b9032cc1b638d1891a3bfbfdc6627cac531754f79ef23\n",
            "  Building wheel for progress (setup.py) ... \u001b[?25l\u001b[?25hdone\n",
            "  Created wheel for progress: filename=progress-1.6-py3-none-any.whl size=9632 sha256=79cd47fc10f4a4597d51fe4ceb52827668487ddc56c100666c2ea14594cd5dc3\n",
            "  Stored in directory: /root/.cache/pip/wheels/8e/d7/61/498d8e27dc11e9805b01eb3539e2ee344436fc226daeb5fe87\n",
            "  Building wheel for py-cpuinfo (setup.py) ... \u001b[?25l\u001b[?25hdone\n",
            "  Created wheel for py-cpuinfo: filename=py_cpuinfo-8.0.0-py3-none-any.whl size=22257 sha256=df8fa5be3154f2f2db78bd79da208adb32fbb0b3e62534fb5146e46364e00b65\n",
            "  Stored in directory: /root/.cache/pip/wheels/d2/f1/1f/041add21dc9c4220157f1bd2bd6afe1f1a49524c3396b94401\n",
            "  Building wheel for sacremoses (setup.py) ... \u001b[?25l\u001b[?25hdone\n",
            "  Created wheel for sacremoses: filename=sacremoses-0.0.53-py3-none-any.whl size=895260 sha256=5e94d4eac48ed73f6eaaf03c65aad3e8d565e96d01b763aa8c7a8301f4f79ff3\n",
            "  Stored in directory: /root/.cache/pip/wheels/87/39/dd/a83eeef36d0bf98e7a4d1933a4ad2d660295a40613079bafc9\n",
            "Successfully built jstyleson progress py-cpuinfo sacremoses\n",
            "Installing collected packages: pyparsing, charset-normalizer, requests, pillow, numpy, tokenizers, scipy, sacremoses, huggingface-hub, transformers, texttable, sentencepiece, scikit-learn, rawpy, pydot, pydicom, pyclipper, py-cpuinfo, progress, parasail, pandas, openvino-telemetry, openvino, opencv-python, ninja, nibabel, natsort, lmdb, jstyleson, jsonschema, imagecodecs, fast-ctc-decode, addict, openvino-dev, onnx, nncf\n",
            "  Attempting uninstall: pyparsing\n",
            "    Found existing installation: pyparsing 3.0.9\n",
            "    Uninstalling pyparsing-3.0.9:\n",
            "      Successfully uninstalled pyparsing-3.0.9\n",
            "  Attempting uninstall: charset-normalizer\n",
            "    Found existing installation: charset-normalizer 2.1.1\n",
            "    Uninstalling charset-normalizer-2.1.1:\n",
            "      Successfully uninstalled charset-normalizer-2.1.1\n",
            "  Attempting uninstall: requests\n",
            "    Found existing installation: requests 2.23.0\n",
            "    Uninstalling requests-2.23.0:\n",
            "      Successfully uninstalled requests-2.23.0\n",
            "  Attempting uninstall: pillow\n",
            "    Found existing installation: Pillow 7.1.2\n",
            "    Uninstalling Pillow-7.1.2:\n",
            "      Successfully uninstalled Pillow-7.1.2\n",
            "  Attempting uninstall: numpy\n",
            "    Found existing installation: numpy 1.21.6\n",
            "    Uninstalling numpy-1.21.6:\n",
            "      Successfully uninstalled numpy-1.21.6\n",
            "  Attempting uninstall: scipy\n",
            "    Found existing installation: scipy 1.7.3\n",
            "    Uninstalling scipy-1.7.3:\n",
            "      Successfully uninstalled scipy-1.7.3\n",
            "  Attempting uninstall: scikit-learn\n",
            "    Found existing installation: scikit-learn 1.0.2\n",
            "    Uninstalling scikit-learn-1.0.2:\n",
            "      Successfully uninstalled scikit-learn-1.0.2\n",
            "  Attempting uninstall: pydot\n",
            "    Found existing installation: pydot 1.3.0\n",
            "    Uninstalling pydot-1.3.0:\n",
            "      Successfully uninstalled pydot-1.3.0\n",
            "  Attempting uninstall: pandas\n",
            "    Found existing installation: pandas 1.3.5\n",
            "    Uninstalling pandas-1.3.5:\n",
            "      Successfully uninstalled pandas-1.3.5\n",
            "  Attempting uninstall: opencv-python\n",
            "    Found existing installation: opencv-python 4.6.0.66\n",
            "    Uninstalling opencv-python-4.6.0.66:\n",
            "      Successfully uninstalled opencv-python-4.6.0.66\n",
            "  Attempting uninstall: nibabel\n",
            "    Found existing installation: nibabel 3.0.2\n",
            "    Uninstalling nibabel-3.0.2:\n",
            "      Successfully uninstalled nibabel-3.0.2\n",
            "  Attempting uninstall: natsort\n",
            "    Found existing installation: natsort 5.5.0\n",
            "    Uninstalling natsort-5.5.0:\n",
            "      Successfully uninstalled natsort-5.5.0\n",
            "  Attempting uninstall: lmdb\n",
            "    Found existing installation: lmdb 0.99\n",
            "    Uninstalling lmdb-0.99:\n",
            "      Successfully uninstalled lmdb-0.99\n",
            "  Attempting uninstall: jsonschema\n",
            "    Found existing installation: jsonschema 4.3.3\n",
            "    Uninstalling jsonschema-4.3.3:\n",
            "      Successfully uninstalled jsonschema-4.3.3\n",
            "\u001b[31mERROR: pip's dependency resolver does not currently take into account all the packages that are installed. This behaviour is the source of the following dependency conflicts.\n",
            "yellowbrick 1.5 requires scikit-learn>=1.0.0, but you have scikit-learn 0.24.2 which is incompatible.\n",
            "xarray-einstats 0.2.2 requires numpy>=1.21, but you have numpy 1.19.5 which is incompatible.\n",
            "tensorflow 2.8.2+zzzcolab20220719082949 requires numpy>=1.20, but you have numpy 1.19.5 which is incompatible.\n",
            "jax 0.3.17 requires numpy>=1.20, but you have numpy 1.19.5 which is incompatible.\n",
            "cmdstanpy 1.0.7 requires numpy>=1.21, but you have numpy 1.19.5 which is incompatible.\u001b[0m\n",
            "Successfully installed addict-2.4.0 charset-normalizer-2.0.12 fast-ctc-decode-0.3.2 huggingface-hub-0.10.0 imagecodecs-2021.11.20 jsonschema-3.2.0 jstyleson-0.0.2 lmdb-1.3.0 natsort-8.2.0 nibabel-4.0.2 ninja-1.10.2.4 nncf-2.1.0 numpy-1.19.5 onnx-1.10.1 opencv-python-4.5.5.64 openvino-2022.1.0 openvino-dev-2022.1.0 openvino-telemetry-2022.1.1 pandas-1.1.5 parasail-1.3.3 pillow-9.2.0 progress-1.6 py-cpuinfo-8.0.0 pyclipper-1.3.0.post3 pydicom-2.3.0 pydot-1.4.2 pyparsing-2.4.7 rawpy-0.17.2 requests-2.26.0 sacremoses-0.0.53 scikit-learn-0.24.2 scipy-1.5.4 sentencepiece-0.1.97 texttable-1.6.4 tokenizers-0.10.3 transformers-4.16.2\n"
          ]
        },
        {
          "output_type": "display_data",
          "data": {
            "application/vnd.colab-display-data+json": {
              "pip_warning": {
                "packages": [
                  "PIL",
                  "numpy",
                  "pandas",
                  "pyparsing",
                  "requests"
                ]
              }
            }
          },
          "metadata": {}
        }
      ]
    },
    {
      "cell_type": "markdown",
      "source": [
        "Restart runtime"
      ],
      "metadata": {
        "id": "vZU2QatiXwxd"
      }
    },
    {
      "cell_type": "code",
      "source": [
        "%cd content"
      ],
      "metadata": {
        "colab": {
          "base_uri": "https://localhost:8080/"
        },
        "id": "_LGYo5j_DWnZ",
        "outputId": "285d2e18-3f7e-4013-9597-f60f09ffe6af"
      },
      "execution_count": null,
      "outputs": [
        {
          "output_type": "stream",
          "name": "stdout",
          "text": [
            "/content\n"
          ]
        }
      ]
    },
    {
      "cell_type": "code",
      "source": [
        "!ls"
      ],
      "metadata": {
        "colab": {
          "base_uri": "https://localhost:8080/"
        },
        "id": "RmSyAVs0Dg1O",
        "outputId": "17bf069c-4e19-4ec0-b5ec-1a4bd9d70608"
      },
      "execution_count": null,
      "outputs": [
        {
          "output_type": "stream",
          "name": "stdout",
          "text": [
            "anomalib  sample_data\n"
          ]
        }
      ]
    },
    {
      "cell_type": "code",
      "source": [
        "%cd anomalib"
      ],
      "metadata": {
        "colab": {
          "base_uri": "https://localhost:8080/"
        },
        "id": "r6Sv-afHDkme",
        "outputId": "aa1d07b8-6fb9-4dcd-a56e-38826e820594"
      },
      "execution_count": null,
      "outputs": [
        {
          "output_type": "stream",
          "name": "stdout",
          "text": [
            "/content/anomalib\n"
          ]
        }
      ]
    },
    {
      "cell_type": "code",
      "source": [
        "!python tools/train.py --config anomalib/models/padim/config.yaml"
      ],
      "metadata": {
        "id": "ipJSDBmP84YV",
        "colab": {
          "base_uri": "https://localhost:8080/"
        },
        "outputId": "93ac9f00-7883-4f4b-b2f7-2dfb6fd4893a"
      },
      "execution_count": null,
      "outputs": [
        {
          "output_type": "stream",
          "name": "stdout",
          "text": [
            "2022-10-06 06:52:10,745 - pytorch_lightning.utilities.seed - INFO - Global seed set to 42\n",
            "2022-10-06 06:52:10,745 - anomalib.data - INFO - Loading the datamodule\n",
            "2022-10-06 06:52:10,747 - anomalib.models - INFO - Loading the model.\n",
            "2022-10-06 06:52:10,760 - torch.distributed.nn.jit.instantiator - INFO - Created a temporary directory at /tmp/tmpl6d52ssu\n",
            "2022-10-06 06:52:10,760 - torch.distributed.nn.jit.instantiator - INFO - Writing /tmp/tmpl6d52ssu/_remote_module_non_sriptable.py\n",
            "2022-10-06 06:52:10,773 - anomalib.models.components.base.anomaly_module - INFO - Initializing PadimLightning model.\n",
            "/usr/local/lib/python3.7/dist-packages/torchmetrics/utilities/prints.py:36: UserWarning: Metric `PrecisionRecallCurve` will save all targets and predictions in buffer. For large datasets this may lead to large memory footprint.\n",
            "  warnings.warn(*args, **kwargs)\n",
            "2022-10-06 06:52:11,107 - timm.models.helpers - INFO - Loading pretrained weights from url (https://download.pytorch.org/models/resnet18-5c106cde.pth)\n",
            "2022-10-06 06:52:11,547 - anomalib.utils.loggers - INFO - Loading the experiment logger(s)\n",
            "2022-10-06 06:52:11,547 - anomalib.utils.callbacks - INFO - Loading the callbacks\n",
            "2022-10-06 06:52:11,575 - anomalib.utils.callbacks - INFO - Setting model export to openvino\n",
            "2022-10-06 06:52:11,578 - pytorch_lightning.utilities.rank_zero - INFO - GPU available: True, used: True\n",
            "2022-10-06 06:52:11,578 - pytorch_lightning.utilities.rank_zero - INFO - TPU available: False, using: 0 TPU cores\n",
            "2022-10-06 06:52:11,578 - pytorch_lightning.utilities.rank_zero - INFO - IPU available: False, using: 0 IPUs\n",
            "2022-10-06 06:52:11,578 - pytorch_lightning.utilities.rank_zero - INFO - HPU available: False, using: 0 HPUs\n",
            "2022-10-06 06:52:11,578 - pytorch_lightning.utilities.rank_zero - INFO - `Trainer(limit_train_batches=1.0)` was configured so 100% of the batches per epoch will be used..\n",
            "2022-10-06 06:52:11,578 - pytorch_lightning.utilities.rank_zero - INFO - `Trainer(limit_val_batches=1.0)` was configured so 100% of the batches will be used..\n",
            "2022-10-06 06:52:11,578 - pytorch_lightning.utilities.rank_zero - INFO - `Trainer(limit_test_batches=1.0)` was configured so 100% of the batches will be used..\n",
            "2022-10-06 06:52:11,578 - pytorch_lightning.utilities.rank_zero - INFO - `Trainer(limit_predict_batches=1.0)` was configured so 100% of the batches will be used..\n",
            "2022-10-06 06:52:11,578 - pytorch_lightning.utilities.rank_zero - INFO - `Trainer(val_check_interval=1.0)` was configured so validation will run at the end of the training epoch..\n",
            "2022-10-06 06:52:11,578 - anomalib - INFO - Training the model.\n",
            "2022-10-06 06:52:11,584 - anomalib.data.mvtec - INFO - Found the dataset.\n",
            "2022-10-06 06:52:11,586 - anomalib.data.mvtec - INFO - Setting up train, validation, test and prediction datasets.\n",
            "2022-10-06 06:52:11,594 - numexpr.utils - INFO - NumExpr defaulting to 2 threads.\n",
            "/usr/local/lib/python3.7/dist-packages/torchmetrics/utilities/prints.py:36: UserWarning: Metric `ROC` will save all targets and predictions in buffer. For large datasets this may lead to large memory footprint.\n",
            "  warnings.warn(*args, **kwargs)\n",
            "/usr/local/lib/python3.7/dist-packages/pytorch_lightning/callbacks/model_checkpoint.py:611: UserWarning: Checkpoint directory /content/anomalib/results/padim/mvtec/bottle/weights exists and is not empty.\n",
            "  rank_zero_warn(f\"Checkpoint directory {dirpath} exists and is not empty.\")\n",
            "2022-10-06 06:52:15,007 - pytorch_lightning.accelerators.gpu - INFO - LOCAL_RANK: 0 - CUDA_VISIBLE_DEVICES: [0]\n",
            "/usr/local/lib/python3.7/dist-packages/pytorch_lightning/core/optimizer.py:184: UserWarning: `LightningModule.configure_optimizers` returned `None`, this fit will run with no optimizer\n",
            "  \"`LightningModule.configure_optimizers` returned `None`, this fit will run with no optimizer\",\n",
            "2022-10-06 06:52:15,010 - pytorch_lightning.callbacks.model_summary - INFO - \n",
            "  | Name                  | Type                     | Params\n",
            "-------------------------------------------------------------------\n",
            "0 | image_threshold       | AdaptiveThreshold        | 0     \n",
            "1 | pixel_threshold       | AdaptiveThreshold        | 0     \n",
            "2 | model                 | PadimModel               | 2.8 M \n",
            "3 | image_metrics         | AnomalibMetricCollection | 0     \n",
            "4 | pixel_metrics         | AnomalibMetricCollection | 0     \n",
            "5 | normalization_metrics | MinMax                   | 0     \n",
            "-------------------------------------------------------------------\n",
            "2.8 M     Trainable params\n",
            "0         Non-trainable params\n",
            "2.8 M     Total params\n",
            "11.131    Total estimated model params size (MB)\n",
            "/usr/local/lib/python3.7/dist-packages/torch/utils/data/dataloader.py:490: UserWarning: This DataLoader will create 8 worker processes in total. Our suggested max number of worker in current system is 2, which is smaller than what this DataLoader is going to create. Please be aware that excessive worker creation might get DataLoader running slow or even freeze, lower the worker number to avoid potential slowness/freeze if necessary.\n",
            "  cpuset_checked))\n",
            "Epoch 0:   0% 0/10 [00:00<?, ?it/s] /usr/local/lib/python3.7/dist-packages/pytorch_lightning/loops/optimization/optimizer_loop.py:137: UserWarning: `training_step` returned `None`. If this was on purpose, ignore this warning...\n",
            "  self.warning_cache.warn(\"`training_step` returned `None`. If this was on purpose, ignore this warning...\")\n",
            "\n",
            "Validation: 0it [00:00, ?it/s]\u001b[A2022-10-06 06:52:19,483 - anomalib.models.padim.lightning_model - INFO - Aggregating the embedding extracted from the training set.\n",
            "2022-10-06 06:52:19,675 - anomalib.models.padim.lightning_model - INFO - Fitting a Gaussian to the embedding collected from the training set.\n",
            "\n",
            "Validation:   0% 0/3 [00:00<?, ?it/s]\u001b[A\n",
            "Validation DataLoader 0:   0% 0/3 [00:00<?, ?it/s]\u001b[A\n",
            "Validation DataLoader 0: 100% 3/3 [00:00<00:00,  4.67it/s]\u001b[A\n",
            "Epoch 0: 100% 10/10 [00:17<00:00,  1.75s/it, loss=nan, pixel_F1Score=0.722, pixel_AUROC=0.983]\n",
            "Epoch 0: 100% 10/10 [00:17<00:00,  1.75s/it, loss=nan, pixel_F1Score=0.722, pixel_AUROC=0.983]2022-10-06 06:52:33,220 - anomalib.utils.callbacks.export - INFO - Exporting the model\n",
            "WARNING: The shape inference of prim::Constant type is missing, so it may result in wrong shape inference for the exported graph. Please consider adding it in symbolic function.\n",
            "Warning: Constant folding - Only steps=1 can be constant folded for opset >= 10 onnx::Slice op. Constant folding not applied.\n",
            "WARNING: The shape inference of prim::Constant type is missing, so it may result in wrong shape inference for the exported graph. Please consider adding it in symbolic function.\n",
            "Warning: Constant folding - Only steps=1 can be constant folded for opset >= 10 onnx::Slice op. Constant folding not applied.\n",
            "WARNING: The shape inference of prim::Constant type is missing, so it may result in wrong shape inference for the exported graph. Please consider adding it in symbolic function.\n",
            "Warning: Constant folding - Only steps=1 can be constant folded for opset >= 10 onnx::Slice op. Constant folding not applied.\n",
            "Model Optimizer arguments:\n",
            "Common parameters:\n",
            "\t- Path to the Input Model: \t/content/anomalib/results/padim/mvtec/bottle/model.onnx\n",
            "\t- Path for generated IR: \t/content/anomalib/results/padim/mvtec/bottle/openvino\n",
            "\t- IR output name: \tmodel\n",
            "\t- Log level: \tERROR\n",
            "\t- Batch: \tNot specified, inherited from the model\n",
            "\t- Input layers: \tNot specified, inherited from the model\n",
            "\t- Output layers: \tNot specified, inherited from the model\n",
            "\t- Input shapes: \tNot specified, inherited from the model\n",
            "\t- Source layout: \tNot specified\n",
            "\t- Target layout: \tNot specified\n",
            "\t- Layout: \tNot specified\n",
            "\t- Mean values: \tNot specified\n",
            "\t- Scale values: \tNot specified\n",
            "\t- Scale factor: \tNot specified\n",
            "\t- Precision of IR: \tFP32\n",
            "\t- Enable fusing: \tTrue\n",
            "\t- User transformations: \tNot specified\n",
            "\t- Reverse input channels: \tFalse\n",
            "\t- Enable IR generation for fixed input shape: \tFalse\n",
            "\t- Use the transformations config file: \tNone\n",
            "Advanced parameters:\n",
            "\t- Force the usage of legacy Frontend of Model Optimizer for model conversion into IR: \tFalse\n",
            "\t- Force the usage of new Frontend of Model Optimizer for model conversion into IR: \tFalse\n",
            "OpenVINO runtime found in: \t/usr/local/lib/python3.7/dist-packages/openvino\n",
            "OpenVINO runtime version: \t2022.1.0-7019-cdb9bec7210-releases/2022/1\n",
            "Model Optimizer version: \t2022.1.0-7019-cdb9bec7210-releases/2022/1\n",
            "[ SUCCESS ] Generated IR version 11 model.\n",
            "[ SUCCESS ] XML file: /content/anomalib/results/padim/mvtec/bottle/openvino/model.xml\n",
            "[ SUCCESS ] BIN file: /content/anomalib/results/padim/mvtec/bottle/openvino/model.bin\n",
            "[ SUCCESS ] Total execution time: 1.66 seconds. \n",
            "[ SUCCESS ] Memory consumed: 700 MB. \n",
            "It's been a while, check for a new version of Intel(R) Distribution of OpenVINO(TM) toolkit here https://software.intel.com/content/www/us/en/develop/tools/openvino-toolkit/download.html?cid=other&source=prod&campid=ww_2022_bu_IOTG_OpenVINO-2022-1&content=upg_all&medium=organic or on the GitHub*\n",
            "[ INFO ] The model was converted to IR v11, the latest model format that corresponds to the source DL framework input/output format. While IR v11 is backwards compatible with OpenVINO Inference Engine API v1.0, please use API v2.0 (as of 2022.1) to take advantage of the latest improvements in IR v11.\n",
            "Find more information about API v2.0 and IR v11 at https://docs.openvino.ai\n",
            "Epoch 0: 100% 10/10 [00:23<00:00,  2.36s/it, loss=nan, pixel_F1Score=0.722, pixel_AUROC=0.983]\n",
            "2022-10-06 06:52:39,237 - anomalib.utils.callbacks.timer - INFO - Training took 24.23 seconds\n",
            "2022-10-06 06:52:39,237 - anomalib - INFO - Loading the best model weights.\n",
            "2022-10-06 06:52:39,237 - anomalib - INFO - Testing the model.\n",
            "2022-10-06 06:52:39,244 - anomalib.data.mvtec - INFO - Found the dataset.\n",
            "2022-10-06 06:52:39,244 - anomalib.data.mvtec - INFO - Setting up train, validation, test and prediction datasets.\n",
            "2022-10-06 06:52:39,323 - pytorch_lightning.accelerators.gpu - INFO - LOCAL_RANK: 0 - CUDA_VISIBLE_DEVICES: [0]\n",
            "2022-10-06 06:52:39,326 - anomalib.utils.callbacks.model_loader - INFO - Loading the model from /content/anomalib/results/padim/mvtec/bottle/weights/model-v1.ckpt\n",
            "Testing DataLoader 0: 100% 3/3 [00:17<00:00,  5.86s/it]2022-10-06 06:52:59,867 - anomalib.utils.callbacks.timer - INFO - Testing took 20.385751247406006 seconds\n",
            "Throughput (batch_size=32) : 4.071471244434093 FPS\n",
            "Testing DataLoader 0: 100% 3/3 [00:17<00:00,  5.99s/it]\n",
            "────────────────────────────────────────────────────────────────────────────────────────────────────────────────────────\n",
            "       Test metric             DataLoader 0\n",
            "────────────────────────────────────────────────────────────────────────────────────────────────────────────────────────\n",
            "       image_AUROC          0.9936507940292358\n",
            "      image_F1Score         0.9763779044151306\n",
            "       pixel_AUROC          0.9830061197280884\n",
            "      pixel_F1Score         0.7220250964164734\n",
            "────────────────────────────────────────────────────────────────────────────────────────────────────────────────────────\n"
          ]
        }
      ]
    },
    {
      "cell_type": "markdown",
      "source": [
        "# Inference"
      ],
      "metadata": {
        "id": "qXGkKsSwdHVH"
      }
    },
    {
      "cell_type": "markdown",
      "source": [
        "# New Section"
      ],
      "metadata": {
        "id": "1s4Ftary4Nf6"
      }
    },
    {
      "cell_type": "code",
      "source": [
        "!mkdir test_result"
      ],
      "metadata": {
        "id": "rx0jtHM5uZ04"
      },
      "execution_count": null,
      "outputs": []
    },
    {
      "cell_type": "code",
      "source": [
        "!python tools/inference/lightning_inference.py \\\n",
        "    --config anomalib/models/padim/config.yaml \\\n",
        "    --weights results/padim/mvtec/bottle/weights/model.ckpt \\\n",
        "    --input datasets/MVTec/bottle/test/broken_large/000.png \\\n",
        "    --output test_result"
      ],
      "metadata": {
        "id": "Vg9htEEIC7pp"
      },
      "execution_count": null,
      "outputs": []
    },
    {
      "cell_type": "code",
      "source": [
        "!python tools/inference/lightning_inference.py \\\n",
        "    --config anomalib/models/padim/config.yaml \\\n",
        "    --weights results/padim/mvtec/bottle/weights/model.ckpt \\\n",
        "    --input datasets/MVTec/bottle/test/good/012.png \\\n",
        "    --output test_result \\\n",
        "    --visualization_mode full"
      ],
      "metadata": {
        "id": "487xFn7EDkhl"
      },
      "execution_count": null,
      "outputs": []
    },
    {
      "cell_type": "code",
      "source": [
        "!python tools/inference/openvino_inference.py \\\n",
        "    --config anomalib/models/padim/config.yaml \\\n",
        "    --weights /content/anomalib/results/padim/mvtec/bottle/model.onnx \\\n",
        "    --input datasets/MVTec/bottle/test/good/012.png \\\n",
        "    --output test_result \\\n",
        "    --visualization_mode full \\\n",
        "    --meta_data /content/anomalib/results/padim/mvtec/bottle/openvino/meta_data.json\n",
        "    "
      ],
      "metadata": {
        "id": "qzlFV3NkFRYE",
        "colab": {
          "base_uri": "https://localhost:8080/"
        },
        "outputId": "775d5e5e-7923-47ea-8675-fd59200eaa1e"
      },
      "execution_count": null,
      "outputs": [
        {
          "output_type": "stream",
          "name": "stdout",
          "text": [
            "/usr/local/lib/python3.7/dist-packages/timm/data/auto_augment.py:39: DeprecationWarning: BILINEAR is deprecated and will be removed in Pillow 10 (2023-07-01). Use Resampling.BILINEAR instead.\n",
            "  _RANDOM_INTERPOLATION = (Image.BILINEAR, Image.BICUBIC)\n",
            "/usr/local/lib/python3.7/dist-packages/timm/data/auto_augment.py:39: DeprecationWarning: BICUBIC is deprecated and will be removed in Pillow 10 (2023-07-01). Use Resampling.BICUBIC instead.\n",
            "  _RANDOM_INTERPOLATION = (Image.BILINEAR, Image.BICUBIC)\n",
            "/usr/local/lib/python3.7/dist-packages/timm/data/transforms.py:39: DeprecationWarning: NEAREST is deprecated and will be removed in Pillow 10 (2023-07-01). Use Resampling.NEAREST or Dither.NONE instead.\n",
            "  Image.NEAREST: 'nearest',\n",
            "/usr/local/lib/python3.7/dist-packages/timm/data/transforms.py:40: DeprecationWarning: BILINEAR is deprecated and will be removed in Pillow 10 (2023-07-01). Use Resampling.BILINEAR instead.\n",
            "  Image.BILINEAR: 'bilinear',\n",
            "/usr/local/lib/python3.7/dist-packages/timm/data/transforms.py:41: DeprecationWarning: BICUBIC is deprecated and will be removed in Pillow 10 (2023-07-01). Use Resampling.BICUBIC instead.\n",
            "  Image.BICUBIC: 'bicubic',\n",
            "/usr/local/lib/python3.7/dist-packages/timm/data/transforms.py:42: DeprecationWarning: BOX is deprecated and will be removed in Pillow 10 (2023-07-01). Use Resampling.BOX instead.\n",
            "  Image.BOX: 'box',\n",
            "/usr/local/lib/python3.7/dist-packages/timm/data/transforms.py:43: DeprecationWarning: HAMMING is deprecated and will be removed in Pillow 10 (2023-07-01). Use Resampling.HAMMING instead.\n",
            "  Image.HAMMING: 'hamming',\n",
            "/usr/local/lib/python3.7/dist-packages/timm/data/transforms.py:44: DeprecationWarning: LANCZOS is deprecated and will be removed in Pillow 10 (2023-07-01). Use Resampling.LANCZOS instead.\n",
            "  Image.LANCZOS: 'lanczos',\n"
          ]
        }
      ]
    },
    {
      "cell_type": "code",
      "source": [
        "!python tools/inference/openvino_inference.py \\\n",
        "    --config anomalib/models/padim/config.yaml \\\n",
        "    --weights /content/anomalib/results/padim/mvtec/bottle/model.onnx \\\n",
        "    --input datasets/MVTec/bottle/test/broken_large/000.png \\\n",
        "    --output test_result \\\n",
        "    --visualization_mode full \\\n",
        "    --meta_data /content/anomalib/results/padim/mvtec/bottle/openvino/meta_data.json"
      ],
      "metadata": {
        "colab": {
          "base_uri": "https://localhost:8080/"
        },
        "id": "Q4_JcO_RAt_v",
        "outputId": "5783eba0-e215-41b1-8368-ca2a90647e04"
      },
      "execution_count": null,
      "outputs": [
        {
          "output_type": "stream",
          "name": "stdout",
          "text": [
            "/usr/local/lib/python3.7/dist-packages/timm/data/auto_augment.py:39: DeprecationWarning: BILINEAR is deprecated and will be removed in Pillow 10 (2023-07-01). Use Resampling.BILINEAR instead.\n",
            "  _RANDOM_INTERPOLATION = (Image.BILINEAR, Image.BICUBIC)\n",
            "/usr/local/lib/python3.7/dist-packages/timm/data/auto_augment.py:39: DeprecationWarning: BICUBIC is deprecated and will be removed in Pillow 10 (2023-07-01). Use Resampling.BICUBIC instead.\n",
            "  _RANDOM_INTERPOLATION = (Image.BILINEAR, Image.BICUBIC)\n",
            "/usr/local/lib/python3.7/dist-packages/timm/data/transforms.py:39: DeprecationWarning: NEAREST is deprecated and will be removed in Pillow 10 (2023-07-01). Use Resampling.NEAREST or Dither.NONE instead.\n",
            "  Image.NEAREST: 'nearest',\n",
            "/usr/local/lib/python3.7/dist-packages/timm/data/transforms.py:40: DeprecationWarning: BILINEAR is deprecated and will be removed in Pillow 10 (2023-07-01). Use Resampling.BILINEAR instead.\n",
            "  Image.BILINEAR: 'bilinear',\n",
            "/usr/local/lib/python3.7/dist-packages/timm/data/transforms.py:41: DeprecationWarning: BICUBIC is deprecated and will be removed in Pillow 10 (2023-07-01). Use Resampling.BICUBIC instead.\n",
            "  Image.BICUBIC: 'bicubic',\n",
            "/usr/local/lib/python3.7/dist-packages/timm/data/transforms.py:42: DeprecationWarning: BOX is deprecated and will be removed in Pillow 10 (2023-07-01). Use Resampling.BOX instead.\n",
            "  Image.BOX: 'box',\n",
            "/usr/local/lib/python3.7/dist-packages/timm/data/transforms.py:43: DeprecationWarning: HAMMING is deprecated and will be removed in Pillow 10 (2023-07-01). Use Resampling.HAMMING instead.\n",
            "  Image.HAMMING: 'hamming',\n",
            "/usr/local/lib/python3.7/dist-packages/timm/data/transforms.py:44: DeprecationWarning: LANCZOS is deprecated and will be removed in Pillow 10 (2023-07-01). Use Resampling.LANCZOS instead.\n",
            "  Image.LANCZOS: 'lanczos',\n"
          ]
        }
      ]
    },
    {
      "cell_type": "code",
      "source": [],
      "metadata": {
        "id": "NCF055R5F57a"
      },
      "execution_count": null,
      "outputs": []
    }
  ]
}